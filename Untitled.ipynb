{
 "cells": [
  {
   "cell_type": "markdown",
   "id": "e37c5308-cb8b-4efc-b38b-9e14badd50c6",
   "metadata": {},
   "source": [
    "### Bubble Sort Python"
   ]
  },
  {
   "cell_type": "code",
   "execution_count": 2,
   "id": "342fbec2-20c1-40a7-b723-673dee7dce59",
   "metadata": {},
   "outputs": [],
   "source": [
    "numbers_array = [1,2,43,45,67,54,343,4,324,45]"
   ]
  },
  {
   "cell_type": "code",
   "execution_count": 3,
   "id": "e62fc4d6-87ed-4819-850e-df553c82c8a5",
   "metadata": {},
   "outputs": [],
   "source": [
    "def check_if_everthing_is_not_sorted(numbers_array):\n",
    "    for idx in range(1,len(numbers_array)):\n",
    "        if numbers_array[idx-1]>numbers_array[idx]:\n",
    "            return True\n",
    "        else:\n",
    "            continue\n",
    "    return False \n",
    "            \n",
    "\n",
    "def bubble_sort(numbers_array):\n",
    "    stop = True\n",
    "    while stop:\n",
    "        for idx in range(1,len(numbers_array)):\n",
    "            if numbers_array[idx-1]>numbers_array[idx]:\n",
    "                temp = numbers_array[idx-1]\n",
    "                numbers_array[idx-1] = numbers_array[idx]\n",
    "                numbers_array[idx] = temp\n",
    "            else:\n",
    "                continue\n",
    "        stop = check_if_everthing_is_not_sorted(numbers_array)\n",
    "    return numbers_array"
   ]
  },
  {
   "cell_type": "code",
   "execution_count": 4,
   "id": "b48738c9-ac15-4521-b3fa-a907e931993e",
   "metadata": {},
   "outputs": [
    {
     "data": {
      "text/plain": [
       "[1, 2, 4, 43, 45, 45, 54, 67, 324, 343]"
      ]
     },
     "execution_count": 4,
     "metadata": {},
     "output_type": "execute_result"
    }
   ],
   "source": [
    "bubble_sort(numbers_array)"
   ]
  },
  {
   "cell_type": "code",
   "execution_count": 6,
   "id": "11cc746c-22ee-4ca3-90cd-a5444e5e1ed7",
   "metadata": {},
   "outputs": [
    {
     "data": {
      "text/plain": [
       "[16, 17, 23, 65, 78, 89, 90, 109, 1000]"
      ]
     },
     "execution_count": 6,
     "metadata": {},
     "output_type": "execute_result"
    }
   ],
   "source": [
    "bubble_sort([23,16,17,90,65,78,109,89,1000])"
   ]
  },
  {
   "cell_type": "code",
   "execution_count": null,
   "id": "91905730-57e8-46b7-ac4b-ebfd2405cc00",
   "metadata": {},
   "outputs": [],
   "source": []
  }
 ],
 "metadata": {
  "kernelspec": {
   "display_name": "Python 3 (ipykernel)",
   "language": "python",
   "name": "python3"
  },
  "language_info": {
   "codemirror_mode": {
    "name": "ipython",
    "version": 3
   },
   "file_extension": ".py",
   "mimetype": "text/x-python",
   "name": "python",
   "nbconvert_exporter": "python",
   "pygments_lexer": "ipython3",
   "version": "3.8.5"
  }
 },
 "nbformat": 4,
 "nbformat_minor": 5
}
